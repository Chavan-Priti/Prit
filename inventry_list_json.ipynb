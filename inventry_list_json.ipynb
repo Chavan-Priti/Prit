{
  "nbformat": 4,
  "nbformat_minor": 0,
  "metadata": {
    "colab": {
      "name": "inventry list.json",
      "provenance": [],
      "collapsed_sections": []
    },
    "kernelspec": {
      "name": "python3",
      "display_name": "Python 3"
    },
    "language_info": {
      "name": "python"
    }
  },
  "cells": [
    {
      "cell_type": "code",
      "metadata": {
        "colab": {
          "base_uri": "https://localhost:8080/",
          "height": 128
        },
        "id": "krSomd3YW0rn",
        "outputId": "0d986d06-6eb4-4a35-83f6-b8edd14dcb67"
      },
      "source": [
        "inventory_management\n",
        "first project with python using json to bill the products bought"
      ],
      "execution_count": 2,
      "outputs": [
        {
          "output_type": "error",
          "ename": "SyntaxError",
          "evalue": "ignored",
          "traceback": [
            "\u001b[0;36m  File \u001b[0;32m\"<ipython-input-2-9f098ad9d745>\"\u001b[0;36m, line \u001b[0;32m2\u001b[0m\n\u001b[0;31m    first project with python using json to bill the products bought\u001b[0m\n\u001b[0m                ^\u001b[0m\n\u001b[0;31mSyntaxError\u001b[0m\u001b[0;31m:\u001b[0m invalid syntax\n"
          ]
        }
      ]
    },
    {
      "cell_type": "code",
      "metadata": {
        "colab": {
          "base_uri": "https://localhost:8080/"
        },
        "id": "mLjpTKwwXm1F",
        "outputId": "b65da5da-93b5-4427-ea7b-31127c7dd119"
      },
      "source": [
        "{\"1191\": {\"item\": \"dairymilk(s)\", \"price\": 20, \"quantity\": 10, \"category\": \"chocolate\", \"rating\": 7}, \"1192\": {\"item\": \"dairymilk(m)\", \"price\": 40, \"quantity\": 100, \"category\": \"chocolate\", \"rating\": 8}, \"1193\": {\"item\": \"dairymilk(l)\", \"price\": 100, \"quantity\": 50, \"category\": \"chocolate\", \"rating\": 8}, \"1194\": {\"item\": \"barone(s)\", \"price\": 10, \"quantity\": 200, \"category\": \"chocolate\", \"rating\": 6}, \"1195\": {\"item\": \"barone(m)\", \"price\": 40, \"quantity\": 75, \"category\": \"chocolate\", \"rating\": 7}, \"1196\": {\"item\": \"barone(l)\", \"price\": 80, \"quantity\": 50, \"category\": \"chocolate\", \"rating\": 8}, \"1197\": {\"item\": \"clinicplus\", \"price\": 1, \"quantity\": 500, \"category\": \"shampoo\", \"rating\": 6}, \"1198\": {\"item\": \"clinicplusbottle\", \"price\": 150, \"quantity\": 50, \"category\": \"shampoo\", \"rating\": 6}, \"1199\": {\"item\": \"dettolsoap\", \"price\": 20, \"quantity\": 100, \"category\": \"soap\", \"rating\": 9}, \"1200\": {\"item\": \"dettolhandwash\", \"price\": 80, \"quantity\": 30, \"category\": \"handwash\", \"rating\": 9}, \"1201\": {\"item\": \"dettolbottle\", \"price\": 80, \"quantity\": 100, \"category\": \"medicine\", \"rating\": 9}, \"1202\": {\"item\": \"paracetamol\", \"price\": 40, \"quantity\": 10, \"category\": \"medicine\", \"rating\": 8}, \"1203\": {\"item\": \"potato\", \"price\": 10, \"quantity\": 100, \"category\": \"vegetable\", \"rating\": 8}, \"1204\": {\"item\": \"5star(s)\", \"price\": 10, \"quantity\": 100, \"category\": \"chocolate\", \"rating\": 8}, \"1205\": {\"item\": \"5star(m)\", \"price\": 20, \"quantity\": 100, \"category\": \"chocolate\", \"rating\": 8}, \"1206\": {\"item\": \"5star(l)\", \"price\": 40, \"quantity\": 50, \"category\": \"chocolate\", \"rating\": 8}, \"1207\": {\"item\": \"kitkat(s)\", \"price\": 10, \"quantity\": 300, \"category\": \"chocolate\", \"rating\": 7}, \"1208\": {\"item\": \"kitkat(m)\", \"price\": 40, \"quantity\": 400, \"category\": \"chocolate\", \"rating\": 9}, \"1209\": {\"item\": \"sneakers\", \"price\": 10, \"quantity\": 500, \"category\": \"chocolate\", \"rating\": 6}, \"1210\": {\"item\": \"centerfresh\", \"price\": 1, \"quantity\": 1000, \"category\": \"toffee\", \"rating\": 7}, \"1211\": {\"item\": \"centerfruit\", \"price\": 1, \"quantity\": 1000, \"category\": \"toffee\", \"rating\": 8}, \"1212\": {\"item\": \"chocobar\", \"price\": 10, \"quantity\": 200, \"category\": \"chocolate\", \"rating\": 7}, \"1213\": {\"item\": \"pilotpen\", \"price\": 100, \"quantity\": 100, \"category\": \"stationary\", \"rating\": 9}, \"1214\": {\"item\": \"apsarapencil\", \"price\": 5, \"quantity\": 200, \"category\": \"stationary\", \"rating\": 9}, \"1215\": {\"item\": \"fair-copy\", \"price\": 70, \"quantity\": 80, \"category\": \"stationary\", \"rating\": 8}, \"1216\": {\"item\": \"rough-copy\", \"price\": 30, \"quantity\": 80, \"category\": \"stationary\", \"rating\": 7}, \"1217\": {\"item\": \"pencil-box\", \"price\": 100, \"quantity\": 90, \"category\": \"stationary\", \"rating\": 9}, \"1218\": {\"item\": \"colors\", \"price\": 120, \"quantity\": 40, \"category\": \"stationary\", \"rating\": 8}, \"1219\": {\"item\": \"fevicol(m)\", \"price\": 20, \"quantity\": 100, \"category\": \"stationary\", \"rating\": 9}, \"1220\": {\"item\": \"fevicol(l)\", \"price\": 50, \"quantity\": 300, \"category\": \"stationary\", \"rating\": 9}}"
      ],
      "execution_count": 3,
      "outputs": [
        {
          "output_type": "execute_result",
          "data": {
            "text/plain": [
              "{'1191': {'category': 'chocolate',\n",
              "  'item': 'dairymilk(s)',\n",
              "  'price': 20,\n",
              "  'quantity': 10,\n",
              "  'rating': 7},\n",
              " '1192': {'category': 'chocolate',\n",
              "  'item': 'dairymilk(m)',\n",
              "  'price': 40,\n",
              "  'quantity': 100,\n",
              "  'rating': 8},\n",
              " '1193': {'category': 'chocolate',\n",
              "  'item': 'dairymilk(l)',\n",
              "  'price': 100,\n",
              "  'quantity': 50,\n",
              "  'rating': 8},\n",
              " '1194': {'category': 'chocolate',\n",
              "  'item': 'barone(s)',\n",
              "  'price': 10,\n",
              "  'quantity': 200,\n",
              "  'rating': 6},\n",
              " '1195': {'category': 'chocolate',\n",
              "  'item': 'barone(m)',\n",
              "  'price': 40,\n",
              "  'quantity': 75,\n",
              "  'rating': 7},\n",
              " '1196': {'category': 'chocolate',\n",
              "  'item': 'barone(l)',\n",
              "  'price': 80,\n",
              "  'quantity': 50,\n",
              "  'rating': 8},\n",
              " '1197': {'category': 'shampoo',\n",
              "  'item': 'clinicplus',\n",
              "  'price': 1,\n",
              "  'quantity': 500,\n",
              "  'rating': 6},\n",
              " '1198': {'category': 'shampoo',\n",
              "  'item': 'clinicplusbottle',\n",
              "  'price': 150,\n",
              "  'quantity': 50,\n",
              "  'rating': 6},\n",
              " '1199': {'category': 'soap',\n",
              "  'item': 'dettolsoap',\n",
              "  'price': 20,\n",
              "  'quantity': 100,\n",
              "  'rating': 9},\n",
              " '1200': {'category': 'handwash',\n",
              "  'item': 'dettolhandwash',\n",
              "  'price': 80,\n",
              "  'quantity': 30,\n",
              "  'rating': 9},\n",
              " '1201': {'category': 'medicine',\n",
              "  'item': 'dettolbottle',\n",
              "  'price': 80,\n",
              "  'quantity': 100,\n",
              "  'rating': 9},\n",
              " '1202': {'category': 'medicine',\n",
              "  'item': 'paracetamol',\n",
              "  'price': 40,\n",
              "  'quantity': 10,\n",
              "  'rating': 8},\n",
              " '1203': {'category': 'vegetable',\n",
              "  'item': 'potato',\n",
              "  'price': 10,\n",
              "  'quantity': 100,\n",
              "  'rating': 8},\n",
              " '1204': {'category': 'chocolate',\n",
              "  'item': '5star(s)',\n",
              "  'price': 10,\n",
              "  'quantity': 100,\n",
              "  'rating': 8},\n",
              " '1205': {'category': 'chocolate',\n",
              "  'item': '5star(m)',\n",
              "  'price': 20,\n",
              "  'quantity': 100,\n",
              "  'rating': 8},\n",
              " '1206': {'category': 'chocolate',\n",
              "  'item': '5star(l)',\n",
              "  'price': 40,\n",
              "  'quantity': 50,\n",
              "  'rating': 8},\n",
              " '1207': {'category': 'chocolate',\n",
              "  'item': 'kitkat(s)',\n",
              "  'price': 10,\n",
              "  'quantity': 300,\n",
              "  'rating': 7},\n",
              " '1208': {'category': 'chocolate',\n",
              "  'item': 'kitkat(m)',\n",
              "  'price': 40,\n",
              "  'quantity': 400,\n",
              "  'rating': 9},\n",
              " '1209': {'category': 'chocolate',\n",
              "  'item': 'sneakers',\n",
              "  'price': 10,\n",
              "  'quantity': 500,\n",
              "  'rating': 6},\n",
              " '1210': {'category': 'toffee',\n",
              "  'item': 'centerfresh',\n",
              "  'price': 1,\n",
              "  'quantity': 1000,\n",
              "  'rating': 7},\n",
              " '1211': {'category': 'toffee',\n",
              "  'item': 'centerfruit',\n",
              "  'price': 1,\n",
              "  'quantity': 1000,\n",
              "  'rating': 8},\n",
              " '1212': {'category': 'chocolate',\n",
              "  'item': 'chocobar',\n",
              "  'price': 10,\n",
              "  'quantity': 200,\n",
              "  'rating': 7},\n",
              " '1213': {'category': 'stationary',\n",
              "  'item': 'pilotpen',\n",
              "  'price': 100,\n",
              "  'quantity': 100,\n",
              "  'rating': 9},\n",
              " '1214': {'category': 'stationary',\n",
              "  'item': 'apsarapencil',\n",
              "  'price': 5,\n",
              "  'quantity': 200,\n",
              "  'rating': 9},\n",
              " '1215': {'category': 'stationary',\n",
              "  'item': 'fair-copy',\n",
              "  'price': 70,\n",
              "  'quantity': 80,\n",
              "  'rating': 8},\n",
              " '1216': {'category': 'stationary',\n",
              "  'item': 'rough-copy',\n",
              "  'price': 30,\n",
              "  'quantity': 80,\n",
              "  'rating': 7},\n",
              " '1217': {'category': 'stationary',\n",
              "  'item': 'pencil-box',\n",
              "  'price': 100,\n",
              "  'quantity': 90,\n",
              "  'rating': 9},\n",
              " '1218': {'category': 'stationary',\n",
              "  'item': 'colors',\n",
              "  'price': 120,\n",
              "  'quantity': 40,\n",
              "  'rating': 8},\n",
              " '1219': {'category': 'stationary',\n",
              "  'item': 'fevicol(m)',\n",
              "  'price': 20,\n",
              "  'quantity': 100,\n",
              "  'rating': 9},\n",
              " '1220': {'category': 'stationary',\n",
              "  'item': 'fevicol(l)',\n",
              "  'price': 50,\n",
              "  'quantity': 300,\n",
              "  'rating': 9}}"
            ]
          },
          "metadata": {},
          "execution_count": 3
        }
      ]
    },
    {
      "cell_type": "code",
      "metadata": {
        "id": "Xb_cZ14mXnT4"
      },
      "source": [
        ""
      ],
      "execution_count": null,
      "outputs": []
    },
    {
      "cell_type": "markdown",
      "metadata": {
        "id": "Yqzw-WOWXaUQ"
      },
      "source": [
        ""
      ]
    }
  ]
}